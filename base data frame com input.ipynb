{
 "cells": [
  {
   "cell_type": "code",
   "execution_count": null,
   "id": "c2ec8000",
   "metadata": {},
   "outputs": [],
   "source": [
    "import pandas as pd\n",
    "import numpy as np\n",
    "import plotly.express as px"
   ]
  },
  {
   "cell_type": "code",
   "execution_count": null,
   "id": "d923d0c7",
   "metadata": {},
   "outputs": [],
   "source": [
    "df_1 = pd.read_csv(\"XXXXXXXXXXXX.csv\")"
   ]
  },
  {
   "cell_type": "code",
   "execution_count": null,
   "id": "ed7acd53",
   "metadata": {},
   "outputs": [],
   "source": [
    "df_1=df_1.dropna()"
   ]
  },
  {
   "cell_type": "code",
   "execution_count": null,
   "id": "816cfb07",
   "metadata": {},
   "outputs": [],
   "source": [
    "#df_1.isna().sum()"
   ]
  },
  {
   "cell_type": "code",
   "execution_count": null,
   "id": "3ccb5ff2",
   "metadata": {
    "scrolled": false
   },
   "outputs": [],
   "source": [
    "df_1"
   ]
  },
  {
   "cell_type": "code",
   "execution_count": null,
   "id": "a3650689",
   "metadata": {},
   "outputs": [],
   "source": [
    "#consulta de dados aguns de frequência por variavel/classe\n",
    "colunas=['Frequência','Frequência Relativa (%)','Frequência Acumulada']\n",
    "\n",
    "df_2= pd.DataFrame(columns=colunas)\n",
    "\n",
    "inp_put=input('Write the variable:')\n",
    "df_2['Frequência']=df_1[[inp_put]].value_counts()\n",
    "df_2['Frequência Relativa (%)']= (df_1[[inp_put]].value_counts() / len(df_1))*100\n",
    "df_2['Frequência Acumulada']=df_2[['Frequência']].cumsum()"
   ]
  },
  {
   "cell_type": "code",
   "execution_count": null,
   "id": "af5d13c1",
   "metadata": {},
   "outputs": [],
   "source": [
    "#amplitude por varivael/classe\n",
    "\n",
    "colunas2=['Valor MAX','Valor MIN', 'Amplitude']\n",
    "\n",
    "df_3= pd.DataFrame(columns=colunas2)\n",
    "\n",
    "\n",
    "df_3['Valor MAX']= df_1[[inp_put]].max()\n",
    "df_3['Valor MIN']= df_1[[inp_put]].min()\n",
    "df_3['Amplitude']= df_1[[inp_put]].max() - df_1[[inp_put]].min()"
   ]
  },
  {
   "cell_type": "code",
   "execution_count": null,
   "id": "82b4a365",
   "metadata": {},
   "outputs": [],
   "source": [
    "df_2 #frequência"
   ]
  },
  {
   "cell_type": "code",
   "execution_count": null,
   "id": "853c426a",
   "metadata": {},
   "outputs": [],
   "source": [
    "df_3 #amplitude"
   ]
  },
  {
   "cell_type": "code",
   "execution_count": null,
   "id": "2918057f",
   "metadata": {},
   "outputs": [],
   "source": []
  }
 ],
 "metadata": {
  "kernelspec": {
   "display_name": "Python 3 (ipykernel)",
   "language": "python",
   "name": "python3"
  },
  "language_info": {
   "codemirror_mode": {
    "name": "ipython",
    "version": 3
   },
   "file_extension": ".py",
   "mimetype": "text/x-python",
   "name": "python",
   "nbconvert_exporter": "python",
   "pygments_lexer": "ipython3",
   "version": "3.9.7"
  }
 },
 "nbformat": 4,
 "nbformat_minor": 5
}
